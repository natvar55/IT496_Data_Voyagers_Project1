{
 "cells": [
  {
   "cell_type": "markdown",
   "metadata": {},
   "source": [
    "1. EDA"
   ]
  },
  {
   "cell_type": "code",
   "execution_count": 6,
   "metadata": {},
   "outputs": [],
   "source": [
    "import math\n",
    "import numpy as np\n",
    "import pandas as pd\n",
    "\n",
    "import matplotlib.pyplot as plt\n",
    "import seaborn as sns"
   ]
  },
  {
   "cell_type": "code",
   "execution_count": 9,
   "metadata": {},
   "outputs": [
    {
     "ename": "SyntaxError",
     "evalue": "(unicode error) 'unicodeescape' codec can't decode bytes in position 2-3: truncated \\UXXXXXXXX escape (2802727513.py, line 1)",
     "output_type": "error",
     "traceback": [
      "\u001b[1;36m  File \u001b[1;32m\"C:\\Users\\Shashank\\AppData\\Local\\Temp\\ipykernel_27148\\2802727513.py\"\u001b[1;36m, line \u001b[1;32m1\u001b[0m\n\u001b[1;33m    df=pd.read_csv(\"C:\\Users\\Shashank\\Documents\\Sem-5\\Data Mining\\Project1\\IT496_Data_Voyagers_Project1\\EVChargingStationUsage.csv\")\u001b[0m\n\u001b[1;37m                                                                                                                                   ^\u001b[0m\n\u001b[1;31mSyntaxError\u001b[0m\u001b[1;31m:\u001b[0m (unicode error) 'unicodeescape' codec can't decode bytes in position 2-3: truncated \\UXXXXXXXX escape\n"
     ]
    }
   ],
   "source": [
    "df=pd.read_csv(\"C:\\Users\\Shashank\\Documents\\Sem-5\\Data Mining\\Project1\\IT496_Data_Voyagers_Project1\\EVChargingStationUsage.csv\")\n",
    "df.head()"
   ]
  },
  {
   "cell_type": "code",
   "execution_count": 10,
   "metadata": {},
   "outputs": [
    {
     "data": {
      "text/plain": [
       "Index(['Station Name', 'MAC Address', 'Org Name', 'Start Date',\n",
       "       'Start Time Zone', 'End Date', 'End Time Zone',\n",
       "       'Transaction Date (Pacific Time)', 'Total Duration (hh:mm:ss)',\n",
       "       'Charging Time (hh:mm:ss)', 'Energy (kWh)', 'GHG Savings (kg)',\n",
       "       'Gasoline Savings (gallons)', 'Port Type', 'Port Number', 'Plug Type',\n",
       "       'EVSE ID', 'Address 1', 'City', 'State/Province', 'Postal Code',\n",
       "       'Country', 'Latitude', 'Longitude', 'Currency', 'Fee', 'Ended By',\n",
       "       'Plug In Event Id', 'Driver Postal Code', 'User ID', 'County',\n",
       "       'System S/N', 'Model Number'],\n",
       "      dtype='object')"
      ]
     },
     "execution_count": 10,
     "metadata": {},
     "output_type": "execute_result"
    }
   ],
   "source": [
    "df.columns"
   ]
  },
  {
   "cell_type": "code",
   "execution_count": 5,
   "metadata": {},
   "outputs": [
    {
     "data": {
      "text/plain": [
       "(259415, 33)"
      ]
     },
     "execution_count": 5,
     "metadata": {},
     "output_type": "execute_result"
    }
   ],
   "source": [
    "df.shape"
   ]
  },
  {
   "cell_type": "code",
   "execution_count": 7,
   "metadata": {},
   "outputs": [
    {
     "data": {
      "text/html": [
       "<div>\n",
       "<style scoped>\n",
       "    .dataframe tbody tr th:only-of-type {\n",
       "        vertical-align: middle;\n",
       "    }\n",
       "\n",
       "    .dataframe tbody tr th {\n",
       "        vertical-align: top;\n",
       "    }\n",
       "\n",
       "    .dataframe thead th {\n",
       "        text-align: right;\n",
       "    }\n",
       "</style>\n",
       "<table border=\"1\" class=\"dataframe\">\n",
       "  <thead>\n",
       "    <tr style=\"text-align: right;\">\n",
       "      <th></th>\n",
       "      <th>Energy (kWh)</th>\n",
       "      <th>GHG Savings (kg)</th>\n",
       "      <th>Gasoline Savings (gallons)</th>\n",
       "      <th>Port Number</th>\n",
       "      <th>EVSE ID</th>\n",
       "      <th>Postal Code</th>\n",
       "      <th>Latitude</th>\n",
       "      <th>Longitude</th>\n",
       "      <th>Fee</th>\n",
       "      <th>Plug In Event Id</th>\n",
       "      <th>Driver Postal Code</th>\n",
       "      <th>System S/N</th>\n",
       "    </tr>\n",
       "  </thead>\n",
       "  <tbody>\n",
       "    <tr>\n",
       "      <th>count</th>\n",
       "      <td>259415.000000</td>\n",
       "      <td>259415.000000</td>\n",
       "      <td>259415.000000</td>\n",
       "      <td>259415.000000</td>\n",
       "      <td>1.804670e+05</td>\n",
       "      <td>259415.000000</td>\n",
       "      <td>259415.000000</td>\n",
       "      <td>259415.000000</td>\n",
       "      <td>259415.000000</td>\n",
       "      <td>2.594150e+05</td>\n",
       "      <td>251013.000000</td>\n",
       "      <td>1.804670e+05</td>\n",
       "    </tr>\n",
       "    <tr>\n",
       "      <th>mean</th>\n",
       "      <td>8.544277</td>\n",
       "      <td>3.588596</td>\n",
       "      <td>1.072306</td>\n",
       "      <td>1.591627</td>\n",
       "      <td>1.462973e+05</td>\n",
       "      <td>94302.315768</td>\n",
       "      <td>37.439565</td>\n",
       "      <td>-122.151264</td>\n",
       "      <td>1.097481</td>\n",
       "      <td>1.188685e+08</td>\n",
       "      <td>94170.308255</td>\n",
       "      <td>1.443790e+11</td>\n",
       "    </tr>\n",
       "    <tr>\n",
       "      <th>std</th>\n",
       "      <td>7.185462</td>\n",
       "      <td>3.017894</td>\n",
       "      <td>0.901776</td>\n",
       "      <td>0.491534</td>\n",
       "      <td>2.429677e+05</td>\n",
       "      <td>1.941657</td>\n",
       "      <td>0.009621</td>\n",
       "      <td>0.015382</td>\n",
       "      <td>1.934408</td>\n",
       "      <td>4.057750e+08</td>\n",
       "      <td>4249.837126</td>\n",
       "      <td>2.483280e+10</td>\n",
       "    </tr>\n",
       "    <tr>\n",
       "      <th>min</th>\n",
       "      <td>0.010000</td>\n",
       "      <td>0.004000</td>\n",
       "      <td>0.001000</td>\n",
       "      <td>1.000000</td>\n",
       "      <td>3.792000e+03</td>\n",
       "      <td>94301.000000</td>\n",
       "      <td>37.422104</td>\n",
       "      <td>-122.163239</td>\n",
       "      <td>0.000000</td>\n",
       "      <td>1.000000e+00</td>\n",
       "      <td>1013.000000</td>\n",
       "      <td>1.023100e+11</td>\n",
       "    </tr>\n",
       "    <tr>\n",
       "      <th>25%</th>\n",
       "      <td>3.784000</td>\n",
       "      <td>1.589000</td>\n",
       "      <td>0.475000</td>\n",
       "      <td>1.000000</td>\n",
       "      <td>4.358300e+04</td>\n",
       "      <td>94301.000000</td>\n",
       "      <td>37.428318</td>\n",
       "      <td>-122.162170</td>\n",
       "      <td>0.000000</td>\n",
       "      <td>1.573000e+03</td>\n",
       "      <td>94087.000000</td>\n",
       "      <td>1.231100e+11</td>\n",
       "    </tr>\n",
       "    <tr>\n",
       "      <th>50%</th>\n",
       "      <td>6.868634</td>\n",
       "      <td>2.885000</td>\n",
       "      <td>0.862000</td>\n",
       "      <td>2.000000</td>\n",
       "      <td>1.074270e+05</td>\n",
       "      <td>94301.000000</td>\n",
       "      <td>37.444489</td>\n",
       "      <td>-122.158272</td>\n",
       "      <td>0.000000</td>\n",
       "      <td>3.573000e+03</td>\n",
       "      <td>94304.000000</td>\n",
       "      <td>1.427410e+11</td>\n",
       "    </tr>\n",
       "    <tr>\n",
       "      <th>75%</th>\n",
       "      <td>11.458340</td>\n",
       "      <td>4.813000</td>\n",
       "      <td>1.438000</td>\n",
       "      <td>2.000000</td>\n",
       "      <td>1.745590e+05</td>\n",
       "      <td>94303.000000</td>\n",
       "      <td>37.446613</td>\n",
       "      <td>-122.145699</td>\n",
       "      <td>1.640000</td>\n",
       "      <td>6.340000e+03</td>\n",
       "      <td>94804.000000</td>\n",
       "      <td>1.705410e+11</td>\n",
       "    </tr>\n",
       "    <tr>\n",
       "      <th>max</th>\n",
       "      <td>97.360000</td>\n",
       "      <td>40.891000</td>\n",
       "      <td>12.219000</td>\n",
       "      <td>2.000000</td>\n",
       "      <td>5.535441e+06</td>\n",
       "      <td>94306.000000</td>\n",
       "      <td>37.449375</td>\n",
       "      <td>-122.112480</td>\n",
       "      <td>84.560000</td>\n",
       "      <td>1.609436e+09</td>\n",
       "      <td>99354.000000</td>\n",
       "      <td>2.002410e+11</td>\n",
       "    </tr>\n",
       "  </tbody>\n",
       "</table>\n",
       "</div>"
      ],
      "text/plain": [
       "        Energy (kWh)  GHG Savings (kg)  Gasoline Savings (gallons)  \\\n",
       "count  259415.000000     259415.000000               259415.000000   \n",
       "mean        8.544277          3.588596                    1.072306   \n",
       "std         7.185462          3.017894                    0.901776   \n",
       "min         0.010000          0.004000                    0.001000   \n",
       "25%         3.784000          1.589000                    0.475000   \n",
       "50%         6.868634          2.885000                    0.862000   \n",
       "75%        11.458340          4.813000                    1.438000   \n",
       "max        97.360000         40.891000                   12.219000   \n",
       "\n",
       "         Port Number       EVSE ID    Postal Code       Latitude  \\\n",
       "count  259415.000000  1.804670e+05  259415.000000  259415.000000   \n",
       "mean        1.591627  1.462973e+05   94302.315768      37.439565   \n",
       "std         0.491534  2.429677e+05       1.941657       0.009621   \n",
       "min         1.000000  3.792000e+03   94301.000000      37.422104   \n",
       "25%         1.000000  4.358300e+04   94301.000000      37.428318   \n",
       "50%         2.000000  1.074270e+05   94301.000000      37.444489   \n",
       "75%         2.000000  1.745590e+05   94303.000000      37.446613   \n",
       "max         2.000000  5.535441e+06   94306.000000      37.449375   \n",
       "\n",
       "           Longitude            Fee  Plug In Event Id  Driver Postal Code  \\\n",
       "count  259415.000000  259415.000000      2.594150e+05       251013.000000   \n",
       "mean     -122.151264       1.097481      1.188685e+08        94170.308255   \n",
       "std         0.015382       1.934408      4.057750e+08         4249.837126   \n",
       "min      -122.163239       0.000000      1.000000e+00         1013.000000   \n",
       "25%      -122.162170       0.000000      1.573000e+03        94087.000000   \n",
       "50%      -122.158272       0.000000      3.573000e+03        94304.000000   \n",
       "75%      -122.145699       1.640000      6.340000e+03        94804.000000   \n",
       "max      -122.112480      84.560000      1.609436e+09        99354.000000   \n",
       "\n",
       "         System S/N  \n",
       "count  1.804670e+05  \n",
       "mean   1.443790e+11  \n",
       "std    2.483280e+10  \n",
       "min    1.023100e+11  \n",
       "25%    1.231100e+11  \n",
       "50%    1.427410e+11  \n",
       "75%    1.705410e+11  \n",
       "max    2.002410e+11  "
      ]
     },
     "execution_count": 7,
     "metadata": {},
     "output_type": "execute_result"
    }
   ],
   "source": [
    "df.describe()"
   ]
  },
  {
   "cell_type": "markdown",
   "metadata": {},
   "source": [
    "Analyzing the data variation of features through box plots."
   ]
  },
  {
   "cell_type": "code",
   "execution_count": 3,
   "metadata": {},
   "outputs": [
    {
     "ename": "ModuleNotFoundError",
     "evalue": "No module named 'matplotlib'",
     "output_type": "error",
     "traceback": [
      "\u001b[1;31m---------------------------------------------------------------------------\u001b[0m",
      "\u001b[1;31mModuleNotFoundError\u001b[0m                       Traceback (most recent call last)",
      "\u001b[1;32mc:\\Users\\Shashank\\Documents\\Sem-5\\Data Mining\\Project1\\IT496_Data_Voyagers_Project1\\EV_Charging_Station_Usage.ipynb Cell 8\u001b[0m line \u001b[0;36m1\n\u001b[1;32m----> <a href='vscode-notebook-cell:/c%3A/Users/Shashank/Documents/Sem-5/Data%20Mining/Project1/IT496_Data_Voyagers_Project1/EV_Charging_Station_Usage.ipynb#X10sZmlsZQ%3D%3D?line=0'>1</a>\u001b[0m \u001b[39mimport\u001b[39;00m \u001b[39mmatplotlib\u001b[39;00m\u001b[39m.\u001b[39;00m\u001b[39mpyplot\u001b[39;00m \u001b[39mas\u001b[39;00m \u001b[39mplt\u001b[39;00m\n\u001b[0;32m      <a href='vscode-notebook-cell:/c%3A/Users/Shashank/Documents/Sem-5/Data%20Mining/Project1/IT496_Data_Voyagers_Project1/EV_Charging_Station_Usage.ipynb#X10sZmlsZQ%3D%3D?line=1'>2</a>\u001b[0m \u001b[39mimport\u001b[39;00m \u001b[39mseaborn\u001b[39;00m \u001b[39mas\u001b[39;00m \u001b[39msns\u001b[39;00m\n\u001b[0;32m      <a href='vscode-notebook-cell:/c%3A/Users/Shashank/Documents/Sem-5/Data%20Mining/Project1/IT496_Data_Voyagers_Project1/EV_Charging_Station_Usage.ipynb#X10sZmlsZQ%3D%3D?line=3'>4</a>\u001b[0m fig, ax \u001b[39m=\u001b[39m plt\u001b[39m.\u001b[39msubplots(\u001b[39m1\u001b[39m, \u001b[39m3\u001b[39m, figsize\u001b[39m=\u001b[39m(\u001b[39m12\u001b[39m, \u001b[39m4\u001b[39m))\n",
      "\u001b[1;31mModuleNotFoundError\u001b[0m: No module named 'matplotlib'"
     ]
    }
   ],
   "source": [
    "import matplotlib.pyplot as plt\n",
    "import seaborn as sns\n",
    "\n",
    "fig, ax = plt.subplots(1, 3, figsize=(12, 4))\n",
    "\n",
    "sns.set_theme(style=\"whitegrid\")\n",
    "for axid, col in enumerate([\"BHK\", \"Size\", \"Bathroom\"]):\n",
    "    sns.boxplot(x=df[col], ax=ax[axid])"
   ]
  },
  {
   "cell_type": "code",
   "execution_count": null,
   "metadata": {},
   "outputs": [],
   "source": []
  }
 ],
 "metadata": {
  "kernelspec": {
   "display_name": "Python 3 (ipykernel)",
   "language": "python",
   "name": "python3"
  },
  "language_info": {
   "codemirror_mode": {
    "name": "ipython",
    "version": 3
   },
   "file_extension": ".py",
   "mimetype": "text/x-python",
   "name": "python",
   "nbconvert_exporter": "python",
   "pygments_lexer": "ipython3",
   "version": "3.9.13"
  }
 },
 "nbformat": 4,
 "nbformat_minor": 2
}
